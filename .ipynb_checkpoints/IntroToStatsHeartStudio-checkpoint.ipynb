{
 "cells": [
  {
   "cell_type": "markdown",
   "metadata": {},
   "source": [
    "## Introduction to Stats in Python Studio\n",
    "\n",
    "We are going to be working with this [dataset](https://www.kaggle.com/andrewmvd/heart-failure-clinical-data) from Kaggle.  No need to download, as it is included in the git repository you just cloned.\n",
    "<br>\n",
    "\n",
    "Heart Disease is the number 1 cause of death globally, taking an estimated 17.9 million lives each year, which accounts for 31% of all deaths worldwide.\n",
    "<br>\n",
    "\n",
    "Heart failure is a common event caused by heart disease and this dataset contains 12 features that can be used to predict mortality by heart failure. You are tasked to look at two particular variables and record your observations about their usefulness for predicting the probability of heart failure.\n",
    "<br>\n",
    "\n",
    "In section one, you will be asked to run some simple EDA and apply statistical terminology to describe each variable in more detail.  Section two will explore what the distribution of your variables looks like. Finally, in section three you will be asked to make some inferences about your variables and if you feel they are good indicators of predicting heart failure.\n",
    "<br>\n",
    "\n",
    "Answer the questions and record your observations in the space provided. Feel free to add more code blocks if you'd like.\n",
    "<br>\n",
    "\n"
   ]
  },
  {
   "cell_type": "raw",
   "metadata": {},
   "source": [
    "Description of Data:\n",
    "\n",
    "Sex - Gender of patient Male = 1, Female =0\n",
    "Age - Age of patient\n",
    "Diabetes - 0 = No, 1 = Yes\n",
    "Anaemia - 0 = No, 1 = Yes\n",
    "High_blood_pressure - 0 = No, 1 = Yes\n",
    "Smoking - 0 = No, 1 = Yes\n",
    "DEATH_EVENT - 0 = No, 1 = Yes"
   ]
  },
  {
   "cell_type": "code",
   "execution_count": 2,
   "metadata": {},
   "outputs": [],
   "source": [
    "# Import libries need with alias\n",
    "import pandas as pd\n",
    "import matplotlib.pyplot as plt\n",
    "import seaborn as sns\n",
    "import numpy as np\n",
    "%matplotlib inline\n",
    "\n",
    "# Suppress warnings\n",
    "import warnings\n",
    "warnings.filterwarnings('ignore')\n",
    "\n",
    "\n",
    "# Set style and font size\n",
    "sns.set_style('darkgrid')\n",
    "sns.set(font_scale=1.5)"
   ]
  },
  {
   "cell_type": "code",
   "execution_count": 3,
   "metadata": {},
   "outputs": [],
   "source": [
    "# Read in data to a dataframe\n",
    "\n",
    "heart_df = pd.read_csv('heart3.csv')"
   ]
  },
  {
   "cell_type": "markdown",
   "metadata": {},
   "source": [
    "## Section 1: First look at the data:\n",
    "\n",
    "Run some simple EDA and look at the data and your variables. Answer the following questions."
   ]
  },
  {
   "cell_type": "code",
   "execution_count": 50,
   "metadata": {},
   "outputs": [
    {
     "data": {
      "text/plain": [
       "Index(['age', 'anaemia', 'creatinine_phosphokinase', 'diabetes',\n",
       "       'ejection_fraction', 'high_blood_pressure', 'platelets',\n",
       "       'serum_creatinine', 'serum_sodium', 'sex', 'smoking', 'time',\n",
       "       'DEATH_EVENT'],\n",
       "      dtype='object')"
      ]
     },
     "execution_count": 50,
     "metadata": {},
     "output_type": "execute_result"
    }
   ],
   "source": [
    "heart_df.columns"
   ]
  },
  {
   "cell_type": "code",
   "execution_count": 49,
   "metadata": {},
   "outputs": [
    {
     "data": {
      "text/plain": [
       "age   anaemia  creatinine_phosphokinase  diabetes  ejection_fraction  high_blood_pressure  platelets  serum_creatinine  serum_sodium  sex  smoking  time  DEATH_EVENT\n",
       "40.0  0        90                        0         35                 0                    255000.0   1.1               136           1    1        212   0              1\n",
       "65.0  1        160                       1         20                 0                    327000.0   2.7               116           0    0        8     1              1\n",
       "               128                       1         30                 1                    297000.0   1.6               136           0    0        20    1              1\n",
       "               113                       1         60                 1                    203000.0   0.9               140           0    0        94    0              1\n",
       "               68                        1         60                 1                    304000.0   0.8               140           1    0        79    0              1\n",
       "                                                                                                                                                                        ..\n",
       "55.0  0        109                       0         35                 0                    254000.0   1.1               139           1    1        60    0              1\n",
       "               84                        1         38                 0                    451000.0   1.3               136           0    0        246   0              1\n",
       "               66                        0         40                 0                    203000.0   1.0               138           1    0        233   0              1\n",
       "               60                        0         35                 0                    228000.0   1.2               135           1    1        90    0              1\n",
       "95.0  1        371                       0         30                 0                    461000.0   2.0               132           1    0        50    1              1\n",
       "Length: 299, dtype: int64"
      ]
     },
     "execution_count": 49,
     "metadata": {},
     "output_type": "execute_result"
    }
   ],
   "source": [
    "heart_df.value_counts()"
   ]
  },
  {
   "cell_type": "code",
   "execution_count": 6,
   "metadata": {},
   "outputs": [
    {
     "data": {
      "text/plain": [
       "age                         float64\n",
       "anaemia                       int64\n",
       "creatinine_phosphokinase      int64\n",
       "diabetes                      int64\n",
       "ejection_fraction             int64\n",
       "high_blood_pressure           int64\n",
       "platelets                   float64\n",
       "serum_creatinine            float64\n",
       "serum_sodium                  int64\n",
       "sex                           int64\n",
       "smoking                       int64\n",
       "time                          int64\n",
       "DEATH_EVENT                   int64\n",
       "dtype: object"
      ]
     },
     "execution_count": 6,
     "metadata": {},
     "output_type": "execute_result"
    }
   ],
   "source": [
    "heart_df.dtypes"
   ]
  },
  {
   "cell_type": "markdown",
   "metadata": {},
   "source": [
    "<b>Which of our columns are catogorical data?</b>\n",
    "<BR> \n",
    " categorical data - fixed number of values\n",
    "\n",
    "- anemia\n",
    "- diabetes\n",
    "- high_blood_pressure\n",
    "- sex\n",
    "- smoking\n",
    "- death event\n",
    "    \n",
    "<br>\n",
    "<b>Which of our columns are continuous?</b>\n",
    "<BR>continuous data - any value within a theoretical min/mix  \n",
    "\n",
    "- age\n",
    "- creatinine_phosphokinase\n",
    "- ejection_fraction\n",
    "- platelets\n",
    "- serum_creatinine\n",
    "- serum_sodim\n",
    "- time<BR>"
   ]
  },
  {
   "cell_type": "code",
   "execution_count": 35,
   "metadata": {},
   "outputs": [
    {
     "data": {
      "text/plain": [
       "60.83389297658862"
      ]
     },
     "execution_count": 35,
     "metadata": {},
     "output_type": "execute_result"
    }
   ],
   "source": [
    "heart_mean = heart_df['age'].mean()\n",
    "heart_mean # sum(all values) / number of values"
   ]
  },
  {
   "cell_type": "code",
   "execution_count": 30,
   "metadata": {},
   "outputs": [
    {
     "data": {
      "text/plain": [
       "40.0"
      ]
     },
     "execution_count": 30,
     "metadata": {},
     "output_type": "execute_result"
    }
   ],
   "source": [
    "heart_min = heart_df['age'].min()\n",
    "heart_min # lowest value - youngest person in dataset"
   ]
  },
  {
   "cell_type": "code",
   "execution_count": 52,
   "metadata": {},
   "outputs": [
    {
     "data": {
      "text/plain": [
       "95.0"
      ]
     },
     "execution_count": 52,
     "metadata": {},
     "output_type": "execute_result"
    }
   ],
   "source": [
    "heart_max = heart_df['age'].max()\n",
    "heart_max # oldest person in dataset"
   ]
  },
  {
   "cell_type": "code",
   "execution_count": 55,
   "metadata": {},
   "outputs": [
    {
     "data": {
      "text/plain": [
       "11.89480907404447"
      ]
     },
     "execution_count": 55,
     "metadata": {},
     "output_type": "execute_result"
    }
   ],
   "source": [
    "heart_std = heart_df['age'].std()\n",
    "\n",
    "heart_std # how much values deviate from the mean age"
   ]
  },
  {
   "cell_type": "markdown",
   "metadata": {},
   "source": [
    "### Statistical interpretation of our data?\n",
    "#### First Variable:\n",
    "<b>Mean, Min, Max, STD? Describe what this means.</b>\n",
    "\n",
    "<br>\n",
    "\n",
    "- Mean : average age = sum of all ages/number of ages.\n",
    "- Min : youngest person in dataset\n",
    "- Max : oldest person in dataset\n",
    "- STD : how much do ages in the dataset deviate from the mean age?\n",
    "<br>\n",
    "\n",
    "\n",
    "#### Second Variable:\n",
    "<b>Mean, Min, Max, STD? Describe what this means.</b>\n",
    "\n",
    "<br>\n",
    "With categorical variables, Min and Max are not useful, as we already know that all the categorical columns contain both categories (yes/no, male/female).\n",
    "\n",
    "<b>What could the numbers in our categorical data tell us?</b>\n",
    "\n",
    "<br>We can use .mean() to learn about the average person in the dataset - male or female, whether they smoke, etc.\n",
    "\n",
    "<b>Why might we want to keep our categorical data as 1's and 0's? Why may we want to use something like the code below to change it?</b>\n",
    "\n",
    "The 1's and 0's make some data easier to interpret - for example, as seen below .mean() for the 'sex' category is .64 indicating that our dataset skews male.\n",
    "However, changing numbers to words might make it easier when creating visualizations.\n"
   ]
  },
  {
   "cell_type": "code",
   "execution_count": 53,
   "metadata": {},
   "outputs": [
    {
     "data": {
      "text/plain": [
       "0.6488294314381271"
      ]
     },
     "execution_count": 53,
     "metadata": {},
     "output_type": "execute_result"
    }
   ],
   "source": [
    "morf_mean = heart_df['sex'].mean()\n",
    "\n",
    "morf_mean"
   ]
  },
  {
   "cell_type": "code",
   "execution_count": null,
   "metadata": {},
   "outputs": [],
   "source": [
    "#df['sex'] = df.sex.replace({1: \"Male\", 0: \"Female\"})\n",
    "#df['anaemia'] = df.anaemia.replace({1: \"Yes\", 0: \"No\"})\n",
    "#df['diabetes'] = df.diabetes.replace({1: \"Yes\", 0: \"No\"})\n",
    "#df['high_blood_pressure'] = df.high_blood_pressure.replace({1: \"Yes\", 0: \"No\"})\n",
    "#df['smoking'] = df.smoking.replace({1: \"Yes\", 0: \"No\"})\n",
    "\n",
    "#df['DEATH_EVENT'] = df.DEATH_EVENT.replace({1: \"Died\", 0: \"Alive\"})\n",
    "\n",
    "# changing numbers to words might make it easier when creating visualizations"
   ]
  },
  {
   "cell_type": "markdown",
   "metadata": {},
   "source": [
    "## Section 2: Distribution of our data:"
   ]
  },
  {
   "cell_type": "code",
   "execution_count": 17,
   "metadata": {},
   "outputs": [
    {
     "data": {
      "image/png": "[encoded data removed]",
      "text/plain": [
       "<Figure size 432x288 with 1 Axes>"
      ]
     },
     "metadata": {},
     "output_type": "display_data"
    }
   ],
   "source": [
    "# Plot the distribution of your variable using distplot\n",
    "\n",
    "variable = heart_df['age']\n",
    "ax = sns.distplot(variable)"
   ]
  },
  {
   "cell_type": "code",
   "execution_count": 28,
   "metadata": {},
   "outputs": [
    {
     "data": {
      "image/png": "[encoded data removed]",
      "text/plain": [
       "<Figure size 432x288 with 1 Axes>"
      ]
     },
     "metadata": {},
     "output_type": "display_data"
    }
   ],
   "source": [
    "# Create boxplot to show distribution of variable\n",
    "\n",
    "# boxplot = df.boxplot(column=['Col1', 'Col2', 'Col3'])\n",
    "\n",
    "boxplot = heart_df.boxplot(column=['age'])"
   ]
  },
  {
   "cell_type": "code",
   "execution_count": null,
   "metadata": {},
   "outputs": [],
   "source": [
    "# Feel free to add any additional graphs that help you answer the questions below."
   ]
  },
  {
   "cell_type": "code",
   "execution_count": 23,
   "metadata": {},
   "outputs": [
    {
     "data": {
      "text/plain": [
       "0.42306190672863536"
      ]
     },
     "execution_count": 23,
     "metadata": {},
     "output_type": "execute_result"
    }
   ],
   "source": [
    "# Another way to check the skewness of our variable\n",
    "heart_df['age'].skew()\n",
    "\n",
    "# positive skew"
   ]
  },
  {
   "cell_type": "code",
   "execution_count": 24,
   "metadata": {},
   "outputs": [
    {
     "data": {
      "text/plain": [
       "-0.18487053195417413"
      ]
     },
     "execution_count": 24,
     "metadata": {},
     "output_type": "execute_result"
    }
   ],
   "source": [
    "# Another way to check the kurtosis of our variable\n",
    "heart_df['age'].kurtosis()\n",
    "\n",
    "# relatively normal distribution"
   ]
  },
  {
   "cell_type": "markdown",
   "metadata": {},
   "source": [
    "### Interpretation of how our data is distributed by variable?\n",
    "Looking at the above graphs, what can you tell about the distribution of your variables?\n",
    "<br><br><br><br><br>\n",
    "What is the skewness and kurtosis of your variables.  What does this mean?<br>\n",
    "<br><br><br><br><br>\n",
    "What are some of the differences you note looking at a categorical variable vs a continuous variable?\n",
    "<br><br><br><br><br>"
   ]
  },
  {
   "cell_type": "markdown",
   "metadata": {},
   "source": [
    "The 'age' variable has no extreme outliers - the kurtosis coefficient is -.0185, revealing a relatively normal distribution.\n",
    "\n",
    "Skewness is positive - the mean age is greater than the mode meaning that a relatively small number of very old people in the dataset skew the mean age upward.\n",
    "\n",
    "The categorical variables are different because they only have two possible values - 0 or 1. Some of the measures (e.g. .min() ) would not be useful to analyze categorical variables."
   ]
  },
  {
   "cell_type": "markdown",
   "metadata": {},
   "source": [
    "## Section 3: Finding Correlations\n",
    "\n",
    "Lets start by breaking our data into two.  "
   ]
  },
  {
   "cell_type": "code",
   "execution_count": 44,
   "metadata": {},
   "outputs": [],
   "source": [
    "# splitting the dataframe into 2 parts\n",
    "# on basis of ‘DEATH_EVENT’ column values\n",
    "heart_df_died = heart_df[heart_df['DEATH_EVENT'] == 1 ]\n",
    "heart_df_lived = heart_df[heart_df['DEATH_EVENT'] == 0 ]"
   ]
  },
  {
   "cell_type": "code",
   "execution_count": 46,
   "metadata": {},
   "outputs": [
    {
     "data": {
      "text/plain": [
       "[]"
      ]
     },
     "execution_count": 46,
     "metadata": {},
     "output_type": "execute_result"
    },
    {
     "data": {
      "image/png": "[encoded data removed]",
      "text/plain": [
       "<Figure size 432x288 with 1 Axes>"
      ]
     },
     "metadata": {},
     "output_type": "display_data"
    }
   ],
   "source": [
    "# Plot your variable based on if they died or lived\n",
    "\n",
    "sns.distplot(heart_df_died['age'])\n",
    "sns.distplot(heart_df_lived['age'])\n",
    "plt.title(\"Chances of survival vs Variable\")\n",
    "plt.legend(('Died','Lived'))\n",
    "plt.plot()\n",
    "\n",
    "# heatmap or corr\n"
   ]
  },
  {
   "cell_type": "code",
   "execution_count": null,
   "metadata": {},
   "outputs": [],
   "source": [
    "# Feel free to add any additional graphs that help you answer the questions below."
   ]
  },
  {
   "cell_type": "markdown",
   "metadata": {},
   "source": [
    "#### What things can you infer if we consider our data a sample of the population, based on each of your variables.  \n",
    "<br>For people over 60, chances of survival are lower than chances of death.<br>\n",
    "#### Do you think either of your variables is a good indicator for predicting Heart Failure, why or why not?  \n",
    "<br><br><br><br><br>"
   ]
  },
  {
   "cell_type": "code",
   "execution_count": null,
   "metadata": {},
   "outputs": [],
   "source": []
  }
 ],
 "metadata": {
  "kernelspec": {
   "display_name": "Python 3 (ipykernel)",
   "language": "python",
   "name": "python3"
  },
  "language_info": {
   "codemirror_mode": {
    "name": "ipython",
    "version": 3
   },
   "file_extension": ".py",
   "mimetype": "text/x-python",
   "name": "python",
   "nbconvert_exporter": "python",
   "pygments_lexer": "ipython3",
   "version": "3.7.2"
  }
 },
 "nbformat": 4,
 "nbformat_minor": 4
}
